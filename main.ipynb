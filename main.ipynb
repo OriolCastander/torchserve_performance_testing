{
 "cells": [
  {
   "cell_type": "code",
   "execution_count": 37,
   "metadata": {},
   "outputs": [],
   "source": [
    "from models.model import Model\n",
    "from models.neuralNetworkModel import NeuralNetworkModel\n",
    "from models.convolutionNeuralNetworkModel import ConvolutionNeuralNetworkModel\n",
    "\n",
    "import subprocess\n",
    "import numpy as np\n",
    "import torch\n",
    "import os\n",
    "import shutil\n",
    "\n",
    "from time import perf_counter"
   ]
  },
  {
   "cell_type": "code",
   "execution_count": 26,
   "metadata": {},
   "outputs": [],
   "source": [
    "def deleteName(name: str) -> None:\n",
    "    \"\"\"Deletes the saved mar file of a specific name\"\"\"\n",
    "    try:\n",
    "        os.remove(f\"model_store/{name}.mar\")\n",
    "        shutil.rmtree(\"logs\")\n",
    "    except:\n",
    "        pass\n",
    "\n",
    "def storeModel(model: Model, name: str, otherConfigs: dict) -> None:\n",
    "    \"\"\"\n",
    "    Needs the saved model with name in model_instances.\n",
    "    Class of the model should be in models and handler(same name replacing class file name \"Model\" with \"Hanlder\")\n",
    "    in handlers.\n",
    "    \"\"\"    \n",
    "\n",
    "    modelClassName = model.__class__.__name__[0].lower() + model.__class__.__name__[1:]\n",
    "\n",
    "    ##SAVE CONFIG JSON\n",
    "    model.saveConfigJson(name, otherConfigs)\n",
    "\n",
    "    subprocess.Popen([\"torch-model-archiver\", \"--model-name\", name,\n",
    "                      \"--version\", \"1.0\",\n",
    "                      \"--model-file\", \"models/\" + modelClassName + \".py\",\n",
    "                      \"--serialized-file\", \"model_instances/\" + name + \".pth\",\n",
    "                      \"--export-path\", \"model_store\",\n",
    "                      \"--extra-files\", f\"./models/model.py,./models/{modelClassName}.py,./configs/{name}.json\",\n",
    "                      \"--handler\", \"handlers/\" + modelClassName.replace(\"Model\", \"Handler\") + \".py\",\n",
    "                      ])"
   ]
  },
  {
   "cell_type": "code",
   "execution_count": 7,
   "metadata": {},
   "outputs": [],
   "source": [
    "import requests\n",
    "import json"
   ]
  },
  {
   "cell_type": "code",
   "execution_count": null,
   "metadata": {},
   "outputs": [],
   "source": [
    "def performMeasurements(model: Model, name: str) -> list[float]:\n",
    "    url = f\"http://127.0.0.1:8080/predictions/{name}\"\n",
    "\n",
    "    times = []\n",
    "\n",
    "    for i in [1,5,10,20,50,100]:\n",
    "        start = perf_counter()\n",
    "        r = requests.get(url, data=json.dumps({\"data\": np.random.rand(i, *model.config[\"shape\"])}))\n",
    "        times.append(perf_counter() - start)\n",
    "\n",
    "    return times"
   ]
  },
  {
   "cell_type": "code",
   "execution_count": null,
   "metadata": {},
   "outputs": [],
   "source": [
    "modelClassnames = [NeuralNetworkModel, ConvolutionNeuralNetworkModel]\n",
    "names = [\"neuralNetwork\", \"convolutionNeuralNetwork\"]\n",
    "params = [[(2, [2,2], 2), (10, [10,10], 10), (100,[100,100], 100)], [()]]\n",
    "extraConfigs = [[{\"cuda\":False}, {\"cuda\":True}], [{\"cuda\":False}, {\"cuda\":True}]]\n",
    "\n",
    "for modelClassname, name, paramList, extraConfigList in zip(modelClassnames,names, params, extraConfigs):\n",
    "    for paramSet in paramList:\n",
    "        model = modelClassname(paramSet)\n",
    "        model.save(f\"model_instances/{name}.pth\")\n",
    "        for extraConfig in extraConfigList:\n",
    "            deleteName(name)\n",
    "            storeModel(model, name, {\"cuda\":False})\n",
    "            \n",
    "            x = input(\"Press enter when torchserve --start is finished initializing\")\n",
    "            times = performMeasurements(model, name)"
   ]
  }
 ],
 "metadata": {
  "kernelspec": {
   "display_name": "base",
   "language": "python",
   "name": "python3"
  },
  "language_info": {
   "codemirror_mode": {
    "name": "ipython",
    "version": 3
   },
   "file_extension": ".py",
   "mimetype": "text/x-python",
   "name": "python",
   "nbconvert_exporter": "python",
   "pygments_lexer": "ipython3",
   "version": "3.11.6"
  }
 },
 "nbformat": 4,
 "nbformat_minor": 2
}
